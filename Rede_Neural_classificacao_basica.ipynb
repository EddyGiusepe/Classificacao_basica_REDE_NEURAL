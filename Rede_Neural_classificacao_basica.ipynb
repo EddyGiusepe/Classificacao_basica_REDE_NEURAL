{
  "nbformat": 4,
  "nbformat_minor": 0,
  "metadata": {
    "colab": {
      "name": "Rede_Neural_classificacao_basica.ipynb",
      "provenance": [],
      "authorship_tag": "ABX9TyPOvh3SVJISX7ihezRSyy4k",
      "include_colab_link": true
    },
    "kernelspec": {
      "name": "python3",
      "display_name": "Python 3"
    }
  },
  "cells": [
    {
      "cell_type": "markdown",
      "metadata": {
        "id": "view-in-github",
        "colab_type": "text"
      },
      "source": [
        "<a href=\"https://colab.research.google.com/github/EddyGiusepe/Classificacao_basica_REDE_NEURAL/blob/main/Rede_Neural_classificacao_basica.ipynb\" target=\"_parent\"><img src=\"https://colab.research.google.com/assets/colab-badge.svg\" alt=\"Open In Colab\"/></a>"
      ]
    },
    {
      "cell_type": "markdown",
      "metadata": {
        "id": "qhs4PakqljQM"
      },
      "source": [
        "# <font color='red'>Treinando a nossa primeira rede neural: classificação básica</font>\r\n",
        "\r\n",
        "**Índice:**\r\n",
        "* Importe a base de Dados Fashion MNIST\r\n",
        "* Exploreos Dados\r\n",
        "* Pré-processe os Dados\r\n",
        "* Construindo o modelo\r\n",
        "  * Montar as camadas\r\n",
        "  * Compile o modelo\r\n",
        "* Treine o modelo\r\n",
        "* Avalie a acurácia\r\n",
        "* Faça predições\r\n",
        "\r\n",
        "\r\n",
        "Este tutorial treina um modelo de rede neural para **classificação de imagens de roupas**, como tênis e camisetas. Tudo bem se você não entender todos os detalhes; este é uma visão geral de um programa do ``TensorFlow`` com detalhes explicados enquanto progredimos.\r\n",
        "\r\n",
        "O guia usa [tf.keras](https://www.tensorflow.org/guide/keras?hl=pt_br), uma API alto-nível para construir e treinar modelos no TensorFlow."
      ]
    },
    {
      "cell_type": "markdown",
      "metadata": {
        "id": "pa7G4DIDl78J"
      },
      "source": [
        "### <font color='blue'>Importamos a nossas livrarias</font>\r\n"
      ]
    },
    {
      "cell_type": "code",
      "metadata": {
        "colab": {
          "base_uri": "https://localhost:8080/"
        },
        "id": "uTd2EWLolX2A",
        "outputId": "bfc34445-3e0c-4452-ae9e-08fd8d69b1ea"
      },
      "source": [
        "# TensorFlow e tf.keras\r\n",
        "import tensorflow as tf\r\n",
        "from tensorflow import keras\r\n",
        "\r\n",
        "# Livrarieas auxiliares\r\n",
        "import numpy as np \r\n",
        "import matplotlib.pyplot as plt\r\n",
        "%matplotlib inline\r\n",
        "\r\n",
        "\r\n",
        "\r\n",
        "print(tf.__version__)\r\n"
      ],
      "execution_count": 1,
      "outputs": [
        {
          "output_type": "stream",
          "text": [
            "2.4.1\n"
          ],
          "name": "stdout"
        }
      ]
    },
    {
      "cell_type": "markdown",
      "metadata": {
        "id": "45dAOKo7mXtb"
      },
      "source": [
        "### <font color='blue'>Importe a base de dados Fashion MNIST</font>\r\n",
        "\r\n",
        "Esse tutorial usa a base de dados **Fashion MNIST** que contém $70\\,000$ imagens em tons de cinza em 10 categorias. As imagens mostram artigos individuais de roupas com baixa resolução ($28$ por $28$ pixels), como vemos aqui:"
      ]
    },
    {
      "cell_type": "markdown",
      "metadata": {
        "id": "6uNFNGZLmlq2"
      },
      "source": [
        "![alt text](https://tensorflow.org/images/fashion-mnist-sprite.png)"
      ]
    },
    {
      "cell_type": "markdown",
      "metadata": {
        "id": "54HKhvPjmsF9"
      },
      "source": [
        "**Fashion MNIST** tem como intenção substituir a clássica base de dados [MNIST](http://yann.lecun.com/exdb/mnist/)— frequentemente usada como \"_Hello, World_\" de programas de aprendizado de máquina (**machine learning**) para visão computacional. A base de dados MNIST contém imagens de dígitos escritos à mão (0, 1, 2, etc.) em um formato idêntico ao dos artigos de roupas que usaremos aqui.\r\n",
        "\r\n",
        "Esse tutorial usa a **Fashion MNIST** para variar, e porque é um problema um pouco mais desafiador que o regular MNIST. Ambas bases são relativamente pequenas e são usadas para verificar se um algoritmo funciona como esperado. Elas são bons pontos de partida para testar e debugar código.\r\n",
        "\r\n",
        "**Usaremos $60\\,000$ imagens para treinar nossa rede e $10\\,000$ imagens para avaliar quão precisamente nossa rede aprendeu a classificar as imagens**. Você pode acessar a Fashion MNIST directly diretamente do TensorFlow. Importe e carregue a base Fashion MNIST diretamente do TensorFlow:"
      ]
    },
    {
      "cell_type": "code",
      "metadata": {
        "colab": {
          "base_uri": "https://localhost:8080/"
        },
        "id": "2Qo9idrzmOT0",
        "outputId": "250f4cee-f32e-49db-fc6a-69aca4f1f786"
      },
      "source": [
        "fashion_mnist = keras.datasets.fashion_mnist\r\n",
        "\r\n",
        "(train_images, train_labels), (test_images, test_labels) = fashion_mnist.load_data()"
      ],
      "execution_count": 2,
      "outputs": [
        {
          "output_type": "stream",
          "text": [
            "Downloading data from https://storage.googleapis.com/tensorflow/tf-keras-datasets/train-labels-idx1-ubyte.gz\n",
            "32768/29515 [=================================] - 0s 0us/step\n",
            "Downloading data from https://storage.googleapis.com/tensorflow/tf-keras-datasets/train-images-idx3-ubyte.gz\n",
            "26427392/26421880 [==============================] - 0s 0us/step\n",
            "Downloading data from https://storage.googleapis.com/tensorflow/tf-keras-datasets/t10k-labels-idx1-ubyte.gz\n",
            "8192/5148 [===============================================] - 0s 0us/step\n",
            "Downloading data from https://storage.googleapis.com/tensorflow/tf-keras-datasets/t10k-images-idx3-ubyte.gz\n",
            "4423680/4422102 [==============================] - 0s 0us/step\n"
          ],
          "name": "stdout"
        }
      ]
    },
    {
      "cell_type": "markdown",
      "metadata": {
        "id": "UWS4DNbVm8Yb"
      },
      "source": [
        "Carregando a base de dados que retorna quatro NumPy arrays:\r\n",
        "\r\n",
        "* Os arrays `train_images` e `train_labels` são o conjunto de treinamento — os dados do modelo usados para aprender.\r\n",
        "\r\n",
        "* O modelo é testado com o _conjunto de teste_, os arrays `test_images` e `test_labels`.\r\n",
        "\r\n",
        "As imagens são arrays NumPy de $28$x$28$, com os valores dos pixels entre $0$ to $255$. As labels (**alvo da classificação**) são um array de inteiros, no intervalo de $0$ a $9$. Esse corresponde com a classe de roupa que cada imagem representa:"
      ]
    },
    {
      "cell_type": "markdown",
      "metadata": {
        "id": "3aaLvciDn6ff"
      },
      "source": [
        "Label | Classe\r\n",
        ":---: | :---:\r\n",
        "0\t| Camisetas/Top (T-shirt/top)\r\n",
        "1\t| Calça (Trouser)\r\n",
        "2\t| Suéter (Pullover)\r\n",
        "3\t| Vestidos (Dress)\r\n",
        "4\t| Casaco (Coat)\r\n",
        "5\t| Sandálias (Sandal)\r\n",
        "6\t| Camisas (Shirt)\r\n",
        "7\t| Tênis (Sneaker)\r\n",
        "8\t| Bolsa (Bag)\r\n",
        "9\t| Botas (Ankle boot)\r\n",
        "\r\n",
        "\r\n",
        "\r\n",
        "Cada imagem é mapeada com um só label. Já que o nome das classes não são incluídas na base de dados, armazene os dados aqui para usá-los mais tarde quando plotarmos as imagens:"
      ]
    },
    {
      "cell_type": "code",
      "metadata": {
        "id": "JK4rGO4YmQQM"
      },
      "source": [
        "class_names = ['T-shirt/top', 'Trouser', 'Pullover', 'Dress', 'Coat',\r\n",
        "               'Sandal', 'Shirt', 'Sneaker', 'Bag', 'Ankle boot']"
      ],
      "execution_count": 3,
      "outputs": []
    },
    {
      "cell_type": "code",
      "metadata": {
        "colab": {
          "base_uri": "https://localhost:8080/"
        },
        "id": "Hr5FBmiZmQS8",
        "outputId": "f58c2374-9656-4284-f4d0-d723ffc75a13"
      },
      "source": [
        "class_names"
      ],
      "execution_count": 4,
      "outputs": [
        {
          "output_type": "execute_result",
          "data": {
            "text/plain": [
              "['T-shirt/top',\n",
              " 'Trouser',\n",
              " 'Pullover',\n",
              " 'Dress',\n",
              " 'Coat',\n",
              " 'Sandal',\n",
              " 'Shirt',\n",
              " 'Sneaker',\n",
              " 'Bag',\n",
              " 'Ankle boot']"
            ]
          },
          "metadata": {
            "tags": []
          },
          "execution_count": 4
        }
      ]
    },
    {
      "cell_type": "markdown",
      "metadata": {
        "id": "wr6uMWhxoQTR"
      },
      "source": [
        "### <font color='blue'>Explorando os dados</font>\r\n",
        "\r\n",
        "Vamos explorar o formato da base de dados antes de treinar o modelo. O próximo comando mostra que existem $60\\,000$ imagens no conjunto de treinamento, e cada imagem é representada em $28$x$28$ pixels:"
      ]
    },
    {
      "cell_type": "code",
      "metadata": {
        "colab": {
          "base_uri": "https://localhost:8080/"
        },
        "id": "GDDne36MmQVb",
        "outputId": "54955d26-e946-4ddd-edc7-f3a86d684d60"
      },
      "source": [
        "train_images.shape"
      ],
      "execution_count": 5,
      "outputs": [
        {
          "output_type": "execute_result",
          "data": {
            "text/plain": [
              "(60000, 28, 28)"
            ]
          },
          "metadata": {
            "tags": []
          },
          "execution_count": 5
        }
      ]
    },
    {
      "cell_type": "markdown",
      "metadata": {
        "id": "kekdB_3UobvS"
      },
      "source": [
        "Do mesmo modo, existem $60\\,000$ labels no conjunto de treinamento:"
      ]
    },
    {
      "cell_type": "code",
      "metadata": {
        "colab": {
          "base_uri": "https://localhost:8080/"
        },
        "id": "eyi9bZ4xmQXu",
        "outputId": "2502cbdc-5ee3-4eb5-f925-c856b6dcbf59"
      },
      "source": [
        "train_labels.shape"
      ],
      "execution_count": 6,
      "outputs": [
        {
          "output_type": "execute_result",
          "data": {
            "text/plain": [
              "(60000,)"
            ]
          },
          "metadata": {
            "tags": []
          },
          "execution_count": 6
        }
      ]
    },
    {
      "cell_type": "code",
      "metadata": {
        "colab": {
          "base_uri": "https://localhost:8080/"
        },
        "id": "9pGyrB75mQaE",
        "outputId": "957ab9f8-fba9-4fbd-e7c2-4219619968c6"
      },
      "source": [
        "len(train_labels)"
      ],
      "execution_count": 7,
      "outputs": [
        {
          "output_type": "execute_result",
          "data": {
            "text/plain": [
              "60000"
            ]
          },
          "metadata": {
            "tags": []
          },
          "execution_count": 7
        }
      ]
    },
    {
      "cell_type": "markdown",
      "metadata": {
        "id": "FdUx-l1ZqEjN"
      },
      "source": [
        "Cada label é um inteiro entre $0$ e $9$:"
      ]
    },
    {
      "cell_type": "code",
      "metadata": {
        "colab": {
          "base_uri": "https://localhost:8080/"
        },
        "id": "69tFr9b6mQcX",
        "outputId": "5e911b79-06b2-464d-9ad0-e517bb90343e"
      },
      "source": [
        "train_labels"
      ],
      "execution_count": 8,
      "outputs": [
        {
          "output_type": "execute_result",
          "data": {
            "text/plain": [
              "array([9, 0, 0, ..., 3, 0, 5], dtype=uint8)"
            ]
          },
          "metadata": {
            "tags": []
          },
          "execution_count": 8
        }
      ]
    },
    {
      "cell_type": "markdown",
      "metadata": {
        "id": "lKJ34N8IqOX0"
      },
      "source": [
        "Existem $10\\,000$ imagens no conjunto de teste. Novamente, cada imagem é representada por $28$x$28$ pixels:"
      ]
    },
    {
      "cell_type": "code",
      "metadata": {
        "colab": {
          "base_uri": "https://localhost:8080/"
        },
        "id": "GYOY9G8EmQeV",
        "outputId": "974067f1-3990-419c-a858-41ebcebcab90"
      },
      "source": [
        "test_images.shape\r\n"
      ],
      "execution_count": 11,
      "outputs": [
        {
          "output_type": "execute_result",
          "data": {
            "text/plain": [
              "(10000, 28, 28)"
            ]
          },
          "metadata": {
            "tags": []
          },
          "execution_count": 11
        }
      ]
    },
    {
      "cell_type": "markdown",
      "metadata": {
        "id": "D3jNXsTbqWDN"
      },
      "source": [
        "E um conjunto de teste contendo $10\\,000$ labels das imagens:"
      ]
    },
    {
      "cell_type": "code",
      "metadata": {
        "colab": {
          "base_uri": "https://localhost:8080/"
        },
        "id": "VdT8llxbmQgr",
        "outputId": "5439cf9d-be54-4685-b930-7f141aed614a"
      },
      "source": [
        "len(test_labels)"
      ],
      "execution_count": 12,
      "outputs": [
        {
          "output_type": "execute_result",
          "data": {
            "text/plain": [
              "10000"
            ]
          },
          "metadata": {
            "tags": []
          },
          "execution_count": 12
        }
      ]
    },
    {
      "cell_type": "markdown",
      "metadata": {
        "id": "ILCFlWumqlt1"
      },
      "source": [
        "### <font color='blue'>Pré-processamento dos dados</font>\r\n",
        "\r\n",
        "Os dados precisam ser pré-processados antes de treinar a rede. Se você inspecionar a primeira imagem do conjunto de treinamento, você verá que os valores dos pixels estão entre $0$ e $255$:"
      ]
    },
    {
      "cell_type": "code",
      "metadata": {
        "colab": {
          "base_uri": "https://localhost:8080/",
          "height": 265
        },
        "id": "Z1fNV57_mQi8",
        "outputId": "6a1f3496-bf20-48e7-d2b0-1c7185c568f5"
      },
      "source": [
        "plt.figure()\r\n",
        "plt.imshow(train_images[9])\r\n",
        "plt.colorbar()\r\n",
        "plt.grid(True)\r\n",
        "plt.show()\r\n"
      ],
      "execution_count": 13,
      "outputs": [
        {
          "output_type": "display_data",
          "data": {
            "image/png": "[encoded data removed]",
            "text/plain": [
              "<Figure size 432x288 with 2 Axes>"
            ]
          },
          "metadata": {
            "tags": [],
            "needs_background": "light"
          }
        }
      ]
    },
    {
      "cell_type": "code",
      "metadata": {
        "colab": {
          "base_uri": "https://localhost:8080/",
          "height": 265
        },
        "id": "NSaJkwaWquk9",
        "outputId": "e25109fe-267c-4a30-9efc-c056239240ed"
      },
      "source": [
        "plt.figure()\r\n",
        "plt.imshow(train_images[0])\r\n",
        "plt.colorbar()\r\n",
        "plt.grid(True)\r\n",
        "plt.show()"
      ],
      "execution_count": 14,
      "outputs": [
        {
          "output_type": "display_data",
          "data": {
            "image/png": "[encoded data removed]",
            "text/plain": [
              "<Figure size 432x288 with 2 Axes>"
            ]
          },
          "metadata": {
            "tags": [],
            "needs_background": "light"
          }
        }
      ]
    },
    {
      "cell_type": "markdown",
      "metadata": {
        "id": "BCOjeFbcq9K1"
      },
      "source": [
        "**Escalaremos esses valores no intervalo de $0$ e $1$ antes de alimentar o modelo da rede neural**. Para fazer isso, dividimos os valores por $255$. É importante que o conjunto de **treinamento** e o conjunto de **teste** podem ser pré-processados do mesmo modo:"
      ]
    },
    {
      "cell_type": "code",
      "metadata": {
        "id": "lTla3SmHqunv"
      },
      "source": [
        "train_images = train_images / 255.0\r\n",
        "\r\n",
        "test_images = test_images / 255.0"
      ],
      "execution_count": 15,
      "outputs": []
    },
    {
      "cell_type": "markdown",
      "metadata": {
        "id": "Jl0Cd3RNrFsY"
      },
      "source": [
        "Para verificar que os dados estão no formato correto e que estamos prontos para construir e treinar a rede, vamos **mostrar as primeiras 25 imagens do conjunto de treinamento** e mostrar o nome das classes de cada imagem abaixo."
      ]
    },
    {
      "cell_type": "code",
      "metadata": {
        "colab": {
          "base_uri": "https://localhost:8080/",
          "height": 589
        },
        "id": "zZup33E3quqb",
        "outputId": "9864b6f4-da49-4fdc-d79c-347638a2adf6"
      },
      "source": [
        "plt.figure(figsize=(10, 10))\r\n",
        "for i in range(25):\r\n",
        "    plt.subplot(5, 5, i + 1)\r\n",
        "    plt.xticks([])\r\n",
        "    plt.yticks([])\r\n",
        "    plt.grid(True )\r\n",
        "    plt.imshow(train_images[i], cmap=plt.cm.binary)\r\n",
        "    plt.xlabel(class_names[train_labels[i]])\r\n",
        "plt.show()    \r\n"
      ],
      "execution_count": 16,
      "outputs": [
        {
          "output_type": "display_data",
          "data": {
            "image/png": "[encoded data removed]",
            "text/plain": [
              "<Figure size 720x720 with 25 Axes>"
            ]
          },
          "metadata": {
            "tags": []
          }
        }
      ]
    },
    {
      "cell_type": "markdown",
      "metadata": {
        "id": "ubPir8jHrPPK"
      },
      "source": [
        "### <font color='blue'>Construindo o modelo</font>\r\n",
        "\r\n",
        "Construir a rede neural requer configurar as camadas do modelo, e depois, compilar o modelo.\r\n",
        "\r\n",
        "#### Montar as camadas\r\n",
        "\r\n",
        "**O principal bloco de construção da rede neural é a camada (layer)**. As camadas (layers) extraem representações dos dados inseridos na rede. Com sorte, essas representações são significativas para o problema à mão.\r\n",
        "\r\n",
        "Muito do **deep learning** consiste encadear simples camadas. Muitas camadas, como `tf.keras.layers.Dense`, tem paramêtros que são aprendidos durante o treinamento."
      ]
    },
    {
      "cell_type": "code",
      "metadata": {
        "id": "W4BIOHiGqusw"
      },
      "source": [
        "model = keras.Sequential([\r\n",
        "    keras.layers.Flatten(input_shape= (28, 28)),\r\n",
        "    keras.layers.Dense(128, activation= 'relu'),\r\n",
        "    keras.layers.Dense(10, activation = 'softmax')\r\n",
        "])"
      ],
      "execution_count": 17,
      "outputs": []
    },
    {
      "cell_type": "markdown",
      "metadata": {
        "id": "ZlAu5duorb9V"
      },
      "source": [
        "A primeira camada da rede, `tf.keras.layers.Flatten`, transforma o formato da imagem de um <font color='orange'>array de imagens de duas dimensões</font> (**de $28$x$28$ pixels**) para um <font color='orange'>array de uma dimensão</font> (**de $28$x$28$ = $784$pixels**). Pense nessa camada como camadas não empilhadas de pixels de uma imagem e os emfilere. Essa camada não tem paramêtros para aprender; **ela só reformata os dados**.\r\n",
        "\r\n",
        "Depois dos pixels serem achatados, a rede consiste de uma sequência de duas camadas `tf.keras.layers.Dense`. Essa são camadas neurais **densely connected** (_densamente conectado_), ou **fully connected** (_totalmente conectado_). A <font color='orange'>primeira camada</font> Dense tem 128 nós (ou neurônios). A <font color='orange'>segunda (e última)</font> camada é uma **softmax** de 10 nós que retorna um array de $10$ probabilidades, cuja soma resulta em $1$. Cada nó contem um valor que indica a probabilidade de que aquela imagem pertence a uma das $10$ classes.\r\n",
        "\r\n",
        "\r\n",
        "### Compile o modelo\r\n",
        "\r\n",
        "\r\n",
        "Antes do modelo estar pronto para o treinamento, é necessário algumas configurações a mais. Essas serão adicionadas no passo de **compilação**:\r\n",
        "\r\n",
        "* <font color='blue'>Função Loss</font> - Essa mede quão precisa o modelo é durante o treinamento. **Queremos minimizar a função** para guiar o modelo para direção certa.\r\n",
        "\r\n",
        "* <font color='blue'>Optimizer</font> - Isso é como o modelo se atualiza com base no dado que ele vê e sua função loss.\r\n",
        "\r\n",
        "* <font color='blue'>Métricas</font> - usadas para monitorar os passos de treinamento e teste. O exemplo abaixo usa a **acurácia**, a fração das imagens que foram classificadas corretamente.\r\n"
      ]
    },
    {
      "cell_type": "code",
      "metadata": {
        "id": "l7qPQu2tquu8"
      },
      "source": [
        "model.compile(optimizer='adam',\r\n",
        "              loss='sparse_categorical_crossentropy',\r\n",
        "              metrics=['accuracy'])\r\n",
        "\r\n",
        "# Nota: \r\n",
        "# Se você quiser fornecer rótulos como inteiros, \r\n",
        "# use Sparse_Categorical_Crossentropy"
      ],
      "execution_count": 18,
      "outputs": []
    },
    {
      "cell_type": "markdown",
      "metadata": {
        "id": "y5nvmaX3rqGg"
      },
      "source": [
        "### <font color='blue'>Treinando o modelo</font>\r\n",
        "\r\n",
        "Treinar a rede neural requer os seguintes passos:\r\n",
        "\r\n",
        "1. Alimente com os dados de treinamento, o modelo. Neste exemplo, os dados de treinamento são os arrays `train_images` e `train_labels`.\r\n",
        "\r\n",
        "\r\n",
        "2. O modelo aprende como associar as imagens às labels.\r\n",
        "\r\n",
        "\r\n",
        "3. Perguntamos ao modelo para fazer previsões sobre o conjunto de teste — nesse exemplo, o array `test_images`. Verificamos se as previsões combinaram com as labels do array `test_labels`.\r\n",
        "\r\n",
        "Para começar a treinar, chame o método `model.fit`— assim chamado, porque ele \"encaixa\" o modelo no conjunto de treinamento:"
      ]
    },
    {
      "cell_type": "code",
      "metadata": {
        "colab": {
          "base_uri": "https://localhost:8080/"
        },
        "id": "Hip4Hbv0qux5",
        "outputId": "5694dea0-2b4c-442f-a9bb-430df8a5b01b"
      },
      "source": [
        "model.fit(train_images, train_labels, epochs=40)"
      ],
      "execution_count": 19,
      "outputs": [
        {
          "output_type": "stream",
          "text": [
            "Epoch 1/40\n",
            "1875/1875 [==============================] - 4s 2ms/step - loss: 0.6192 - accuracy: 0.7834\n",
            "Epoch 2/40\n",
            "1875/1875 [==============================] - 4s 2ms/step - loss: 0.3829 - accuracy: 0.8610\n",
            "Epoch 3/40\n",
            "1875/1875 [==============================] - 4s 2ms/step - loss: 0.3336 - accuracy: 0.8760\n",
            "Epoch 4/40\n",
            "1875/1875 [==============================] - 4s 2ms/step - loss: 0.3154 - accuracy: 0.8853\n",
            "Epoch 5/40\n",
            "1875/1875 [==============================] - 4s 2ms/step - loss: 0.2900 - accuracy: 0.8921\n",
            "Epoch 6/40\n",
            "1875/1875 [==============================] - 4s 2ms/step - loss: 0.2793 - accuracy: 0.8964\n",
            "Epoch 7/40\n",
            "1875/1875 [==============================] - 3s 2ms/step - loss: 0.2653 - accuracy: 0.9026\n",
            "Epoch 8/40\n",
            "1875/1875 [==============================] - 4s 2ms/step - loss: 0.2529 - accuracy: 0.9052\n",
            "Epoch 9/40\n",
            "1875/1875 [==============================] - 4s 2ms/step - loss: 0.2446 - accuracy: 0.9116\n",
            "Epoch 10/40\n",
            "1875/1875 [==============================] - 3s 2ms/step - loss: 0.2304 - accuracy: 0.9145\n",
            "Epoch 11/40\n",
            "1875/1875 [==============================] - 3s 2ms/step - loss: 0.2303 - accuracy: 0.9141\n",
            "Epoch 12/40\n",
            "1875/1875 [==============================] - 3s 2ms/step - loss: 0.2194 - accuracy: 0.9167\n",
            "Epoch 13/40\n",
            "1875/1875 [==============================] - 3s 2ms/step - loss: 0.2140 - accuracy: 0.9199\n",
            "Epoch 14/40\n",
            "1875/1875 [==============================] - 3s 2ms/step - loss: 0.1999 - accuracy: 0.9256\n",
            "Epoch 15/40\n",
            "1875/1875 [==============================] - 3s 2ms/step - loss: 0.1984 - accuracy: 0.9270\n",
            "Epoch 16/40\n",
            "1875/1875 [==============================] - 3s 2ms/step - loss: 0.1932 - accuracy: 0.9271\n",
            "Epoch 17/40\n",
            "1875/1875 [==============================] - 3s 2ms/step - loss: 0.1891 - accuracy: 0.9308\n",
            "Epoch 18/40\n",
            "1875/1875 [==============================] - 3s 2ms/step - loss: 0.1831 - accuracy: 0.9316\n",
            "Epoch 19/40\n",
            "1875/1875 [==============================] - 3s 2ms/step - loss: 0.1781 - accuracy: 0.9341\n",
            "Epoch 20/40\n",
            "1875/1875 [==============================] - 3s 2ms/step - loss: 0.1752 - accuracy: 0.9349\n",
            "Epoch 21/40\n",
            "1875/1875 [==============================] - 4s 2ms/step - loss: 0.1693 - accuracy: 0.9371\n",
            "Epoch 22/40\n",
            "1875/1875 [==============================] - 4s 2ms/step - loss: 0.1629 - accuracy: 0.9390\n",
            "Epoch 23/40\n",
            "1875/1875 [==============================] - 3s 2ms/step - loss: 0.1590 - accuracy: 0.9390\n",
            "Epoch 24/40\n",
            "1875/1875 [==============================] - 4s 2ms/step - loss: 0.1608 - accuracy: 0.9395\n",
            "Epoch 25/40\n",
            "1875/1875 [==============================] - 3s 2ms/step - loss: 0.1519 - accuracy: 0.9432\n",
            "Epoch 26/40\n",
            "1875/1875 [==============================] - 3s 2ms/step - loss: 0.1539 - accuracy: 0.9421\n",
            "Epoch 27/40\n",
            "1875/1875 [==============================] - 3s 2ms/step - loss: 0.1490 - accuracy: 0.9433\n",
            "Epoch 28/40\n",
            "1875/1875 [==============================] - 3s 2ms/step - loss: 0.1453 - accuracy: 0.9454\n",
            "Epoch 29/40\n",
            "1875/1875 [==============================] - 3s 2ms/step - loss: 0.1383 - accuracy: 0.9482\n",
            "Epoch 30/40\n",
            "1875/1875 [==============================] - 3s 2ms/step - loss: 0.1390 - accuracy: 0.9478\n",
            "Epoch 31/40\n",
            "1875/1875 [==============================] - 3s 2ms/step - loss: 0.1370 - accuracy: 0.9490\n",
            "Epoch 32/40\n",
            "1875/1875 [==============================] - 3s 2ms/step - loss: 0.1300 - accuracy: 0.9527\n",
            "Epoch 33/40\n",
            "1875/1875 [==============================] - 3s 2ms/step - loss: 0.1265 - accuracy: 0.9530\n",
            "Epoch 34/40\n",
            "1875/1875 [==============================] - 3s 2ms/step - loss: 0.1264 - accuracy: 0.9519\n",
            "Epoch 35/40\n",
            "1875/1875 [==============================] - 3s 2ms/step - loss: 0.1261 - accuracy: 0.9538\n",
            "Epoch 36/40\n",
            "1875/1875 [==============================] - 3s 2ms/step - loss: 0.1236 - accuracy: 0.9537\n",
            "Epoch 37/40\n",
            "1875/1875 [==============================] - 3s 2ms/step - loss: 0.1154 - accuracy: 0.9566\n",
            "Epoch 38/40\n",
            "1875/1875 [==============================] - 3s 2ms/step - loss: 0.1143 - accuracy: 0.9568\n",
            "Epoch 39/40\n",
            "1875/1875 [==============================] - 3s 2ms/step - loss: 0.1136 - accuracy: 0.9579\n",
            "Epoch 40/40\n",
            "1875/1875 [==============================] - 3s 2ms/step - loss: 0.1094 - accuracy: 0.9583\n"
          ],
          "name": "stdout"
        },
        {
          "output_type": "execute_result",
          "data": {
            "text/plain": [
              "<tensorflow.python.keras.callbacks.History at 0x7faa08393160>"
            ]
          },
          "metadata": {
            "tags": []
          },
          "execution_count": 19
        }
      ]
    },
    {
      "cell_type": "markdown",
      "metadata": {
        "id": "jihH6H-6r3ji"
      },
      "source": [
        "À medida que o modelo treina, as métricas: **loss** e **acurácia** são mostradas. O modelo atinge uma acurácia de $0.88$ (ou $88\\%$) com o conjunto de treinamento.\r\n",
        "\r\n",
        "### <font color='blue'>Avalie a acurácia</font>\r\n",
        "\r\n",
        "Depois, compare como o modelo performou com o conjunto de teste:"
      ]
    },
    {
      "cell_type": "code",
      "metadata": {
        "colab": {
          "base_uri": "https://localhost:8080/"
        },
        "id": "HCCnrYmbmQqw",
        "outputId": "9de47cc1-0393-4fd2-d438-1486096dfb17"
      },
      "source": [
        "test_loss, test_acc = model.evaluate(test_images, test_labels, verbose=2)\r\n"
      ],
      "execution_count": 20,
      "outputs": [
        {
          "output_type": "stream",
          "text": [
            "313/313 - 0s - loss: 0.4309 - accuracy: 0.8916\n"
          ],
          "name": "stdout"
        }
      ]
    },
    {
      "cell_type": "code",
      "metadata": {
        "colab": {
          "base_uri": "https://localhost:8080/"
        },
        "id": "4APBVKJImQtd",
        "outputId": "da0bb451-33ed-4a7f-f22f-ae14cf67a79e"
      },
      "source": [
        "print('\\nTest accuracy:', test_acc)"
      ],
      "execution_count": 21,
      "outputs": [
        {
          "output_type": "stream",
          "text": [
            "\n",
            "Test accuracy: 0.8916000127792358\n"
          ],
          "name": "stdout"
        }
      ]
    },
    {
      "cell_type": "markdown",
      "metadata": {
        "id": "aE5m8XdysVaQ"
      },
      "source": [
        "Acabou que o a accurácia com o conjunto de teste é um pouco menor do que a acurácia de treinamento. Essa diferença entre as duas acurácias representa um **overfitting**. **Overfitting** é modelo de aprendizado de máquina performou de maneira pior em um conjunto de entradas novas, e não usadas anteriormente, que usando o conjunto de treinamento.\r\n",
        "\r\n",
        "### <font color='blue'>Faça predições</font>\r\n",
        "\r\n",
        "Com o modelo treinado, o usaremos para predições de algumas imagens."
      ]
    },
    {
      "cell_type": "code",
      "metadata": {
        "id": "vty8Bz0hsQN2"
      },
      "source": [
        "predictions = model.predict(test_images)"
      ],
      "execution_count": 22,
      "outputs": []
    },
    {
      "cell_type": "markdown",
      "metadata": {
        "id": "ef8WoOrhshP5"
      },
      "source": [
        "Aqui, o modelo previu a **label** de cada imagem no conjunto de treinamento. Vamos olhar na primeira predição:"
      ]
    },
    {
      "cell_type": "code",
      "metadata": {
        "colab": {
          "base_uri": "https://localhost:8080/"
        },
        "id": "72sNN4x5sQQm",
        "outputId": "880be0d1-5bc3-472f-85df-07bcf33b7b14"
      },
      "source": [
        "predictions[0]"
      ],
      "execution_count": 23,
      "outputs": [
        {
          "output_type": "execute_result",
          "data": {
            "text/plain": [
              "array([8.8031654e-10, 7.2239275e-19, 3.0251714e-21, 4.5172123e-31,\n",
              "       1.1761824e-12, 2.3354950e-07, 1.1872809e-12, 4.7057174e-06,\n",
              "       9.2249765e-16, 9.9999511e-01], dtype=float32)"
            ]
          },
          "metadata": {
            "tags": []
          },
          "execution_count": 23
        }
      ]
    },
    {
      "cell_type": "markdown",
      "metadata": {
        "id": "uXifM0G2so7u"
      },
      "source": [
        "A predição é um array de $10$ números. Eles representam uma **confiança** do modelo que a imagem corresponde a cada um dos diferentes artigos de roupa. Podemos ver que cada **label** tem um maior valor de confiança: "
      ]
    },
    {
      "cell_type": "code",
      "metadata": {
        "colab": {
          "base_uri": "https://localhost:8080/"
        },
        "id": "TaKC7ze3sQTW",
        "outputId": "5b2c206a-1e20-4a54-93dc-2725a1d7ab91"
      },
      "source": [
        "np.argmax(predictions[0])"
      ],
      "execution_count": 24,
      "outputs": [
        {
          "output_type": "execute_result",
          "data": {
            "text/plain": [
              "9"
            ]
          },
          "metadata": {
            "tags": []
          },
          "execution_count": 24
        }
      ]
    },
    {
      "cell_type": "markdown",
      "metadata": {
        "id": "pw8ozkLysvZQ"
      },
      "source": [
        "Então, o modelo é confiante de que essa imagem é uma bota (ankle boot) ou `class_names[9]`. Examinando a label do teste, vemos que essa classificação é correta:"
      ]
    },
    {
      "cell_type": "code",
      "metadata": {
        "colab": {
          "base_uri": "https://localhost:8080/"
        },
        "id": "V39G8WGnss_S",
        "outputId": "5dec944e-ad2d-430a-fed3-dca499873835"
      },
      "source": [
        "test_labels[0]"
      ],
      "execution_count": 25,
      "outputs": [
        {
          "output_type": "execute_result",
          "data": {
            "text/plain": [
              "9"
            ]
          },
          "metadata": {
            "tags": []
          },
          "execution_count": 25
        }
      ]
    },
    {
      "cell_type": "markdown",
      "metadata": {
        "id": "OXNKDAqms3Z-"
      },
      "source": [
        "Podemos mostrar graficamente como se parece em um conjunto total de previsão de $10$ classes. "
      ]
    },
    {
      "cell_type": "code",
      "metadata": {
        "id": "7dBic0otsxvS"
      },
      "source": [
        "def plot_image(i, predictions_array, true_label, img):\r\n",
        "    predictions_array, true_label, img = predictions_array[i], true_label[i], img[i]\r\n",
        "    plt.grid(False)\r\n",
        "    plt.xticks([])\r\n",
        "    plt.yticks([])\r\n",
        "    \r\n",
        "    plt.imshow(img, cmap=plt.cm.binary)\r\n",
        "    \r\n",
        "    predicted_label = np.argmax(predictions_array)\r\n",
        "    if predicted_label == true_label:\r\n",
        "        color = 'blue'\r\n",
        "    else:\r\n",
        "        color = 'red'\r\n",
        "        \r\n",
        "    plt.xlabel(\"{} {:2.0f}% ({})\".format(class_names[predicted_label],\r\n",
        "                                         100*np.max(predictions_array),\r\n",
        "                                         class_names[true_label]),\r\n",
        "               color=color)\r\n",
        "\r\n",
        "def plot_value_array(i, predictions_array, true_label):\r\n",
        "    predictions_array, true_label = predictions_array[i], true_label[i]\r\n",
        "    plt.grid(False)\r\n",
        "    plt.xticks([])\r\n",
        "    plt.yticks([])\r\n",
        "    thisplot = plt.bar(range(10), predictions_array, color=\"#777777\")\r\n",
        "    plt.ylim([0, 1])\r\n",
        "    predicted_label = np.argmax(predictions_array)\r\n",
        "\r\n",
        "    \r\n",
        "    thisplot[predicted_label].set_color('red')\r\n",
        "    thisplot[true_label].set_color('blue')\r\n",
        "    \r\n",
        "    "
      ],
      "execution_count": 26,
      "outputs": []
    },
    {
      "cell_type": "markdown",
      "metadata": {
        "id": "D0RUBItUtE7k"
      },
      "source": [
        "Vamos olhar a previsão imagem na posição $0$, do array de predição."
      ]
    },
    {
      "cell_type": "code",
      "metadata": {
        "colab": {
          "base_uri": "https://localhost:8080/",
          "height": 203
        },
        "id": "H9EesT15sxyB",
        "outputId": "18ae541d-d2f0-49ce-e9d9-631cd4330634"
      },
      "source": [
        "i = 0\r\n",
        "plt.figure(figsize=(6,3))\r\n",
        "plt.subplot(1,2,1)\r\n",
        "plot_image(i, predictions, test_labels, test_images)\r\n",
        "plt.subplot(1,2,2)\r\n",
        "plot_value_array(i, predictions,  test_labels)\r\n",
        "plt.show()"
      ],
      "execution_count": 27,
      "outputs": [
        {
          "output_type": "display_data",
          "data": {
            "image/png": "[encoded data removed]",
            "text/plain": [
              "<Figure size 432x216 with 2 Axes>"
            ]
          },
          "metadata": {
            "tags": []
          }
        }
      ]
    },
    {
      "cell_type": "code",
      "metadata": {
        "colab": {
          "base_uri": "https://localhost:8080/",
          "height": 203
        },
        "id": "ZRHnhQX1tIXy",
        "outputId": "2e4d13d9-c027-48e8-98b3-bc8995204e25"
      },
      "source": [
        "i = 12\r\n",
        "plt.figure(figsize=(6,3))\r\n",
        "plt.subplot(1,2,1)\r\n",
        "plot_image(i, predictions, test_labels, test_images)\r\n",
        "plt.subplot(1,2,2)\r\n",
        "plot_value_array(i, predictions,  test_labels)\r\n",
        "plt.show()"
      ],
      "execution_count": 28,
      "outputs": [
        {
          "output_type": "display_data",
          "data": {
            "image/png": "[encoded data removed]",
            "text/plain": [
              "<Figure size 432x216 with 2 Axes>"
            ]
          },
          "metadata": {
            "tags": []
          }
        }
      ]
    },
    {
      "cell_type": "code",
      "metadata": {
        "colab": {
          "base_uri": "https://localhost:8080/",
          "height": 203
        },
        "id": "YOYbHupitMnB",
        "outputId": "38fa302f-3fc7-4610-d80c-f4502a227876"
      },
      "source": [
        "i = 9999\r\n",
        "plt.figure(figsize=(6,3))\r\n",
        "plt.subplot(1,2,1)\r\n",
        "plot_image(i, predictions, test_labels, test_images)\r\n",
        "plt.subplot(1,2,2)\r\n",
        "plot_value_array(i, predictions,  test_labels)\r\n",
        "plt.show()"
      ],
      "execution_count": 29,
      "outputs": [
        {
          "output_type": "display_data",
          "data": {
            "image/png": "[encoded data removed]",
            "text/plain": [
              "<Figure size 432x216 with 2 Axes>"
            ]
          },
          "metadata": {
            "tags": []
          }
        }
      ]
    },
    {
      "cell_type": "markdown",
      "metadata": {
        "id": "vOcOIFyitSAg"
      },
      "source": [
        "Vamos plotar algumas da previsão do modelo. **Labels preditas corretamente são azuis** e as **predições erradas são vermelhas**. O número dá a porcentagem (de $100$) das labels preditas. Note que o modelo pode errar mesmo estão confiante."
      ]
    },
    {
      "cell_type": "code",
      "metadata": {
        "colab": {
          "base_uri": "https://localhost:8080/",
          "height": 589
        },
        "id": "3jM1K26ktPIh",
        "outputId": "266128c9-6ddc-426f-ca8d-c49153fe95c6"
      },
      "source": [
        "# Plota o primeiro X test images, e as labels preditas, e as labels verdadeiras.\r\n",
        "# Colore as predições corretas de azul e as incorretas de vermelho.\r\n",
        "\r\n",
        "\r\n",
        "num_rows = 5\r\n",
        "num_cols = 3\r\n",
        "num_images = num_rows*num_cols\r\n",
        "plt.figure(figsize=(2*2*num_cols, 2*num_rows))\r\n",
        "\r\n",
        "for i in range(num_images):\r\n",
        "    plt.subplot(num_rows, 2*num_cols, 2*i+1)\r\n",
        "    plot_image(i, predictions, test_labels, test_images)\r\n",
        "    plt.subplot(num_rows, 2*num_cols, 2*i+2)\r\n",
        "    plot_value_array(i, predictions, test_labels)\r\n",
        "plt.show()"
      ],
      "execution_count": 30,
      "outputs": [
        {
          "output_type": "display_data",
          "data": {
            "image/png": "[encoded data removed]",
            "text/plain": [
              "<Figure size 864x720 with 30 Axes>"
            ]
          },
          "metadata": {
            "tags": []
          }
        }
      ]
    },
    {
      "cell_type": "markdown",
      "metadata": {
        "id": "MUL9YW6ftavP"
      },
      "source": [
        "Finalmente, use o modelo treinado para fazer a predição de uma única imagem."
      ]
    },
    {
      "cell_type": "code",
      "metadata": {
        "colab": {
          "base_uri": "https://localhost:8080/"
        },
        "id": "u_SDpBHItWPU",
        "outputId": "ae810f81-72fa-401c-ffab-c39ff6b42cb3"
      },
      "source": [
        "# Grab an image from the test dataset.\r\n",
        "# Pegue uma imagem do conjunto de dados de teste\r\n",
        "\r\n",
        "img = test_images[0]\r\n",
        "\r\n",
        "print(img.shape)"
      ],
      "execution_count": 31,
      "outputs": [
        {
          "output_type": "stream",
          "text": [
            "(28, 28)\n"
          ],
          "name": "stdout"
        }
      ]
    },
    {
      "cell_type": "markdown",
      "metadata": {
        "id": "GTPXhs4XtiVA"
      },
      "source": [
        "Modelos `tf.keras` são otimizados para fazer predições em um **batch**, ou **coleções**, de exemplos de uma vez. De acordo, mesmo que usemos uma única imagem, precisamos adicionar em uma lista:"
      ]
    },
    {
      "cell_type": "code",
      "metadata": {
        "colab": {
          "base_uri": "https://localhost:8080/"
        },
        "id": "BOt5yLpRtftp",
        "outputId": "a3c235bc-050a-49ea-aefc-d30d196af647"
      },
      "source": [
        "# Adiciona a imagem em um batch que possui um só membro.\r\n",
        "\r\n",
        "img = (np.expand_dims(img,0))\r\n",
        "\r\n",
        "print(img.shape)\r\n"
      ],
      "execution_count": 32,
      "outputs": [
        {
          "output_type": "stream",
          "text": [
            "(1, 28, 28)\n"
          ],
          "name": "stdout"
        }
      ]
    },
    {
      "cell_type": "markdown",
      "metadata": {
        "id": "ALFhxMYptrfC"
      },
      "source": [
        "Agora prediremos a label correta para essa imagem:"
      ]
    },
    {
      "cell_type": "code",
      "metadata": {
        "colab": {
          "base_uri": "https://localhost:8080/"
        },
        "id": "CLTJmsl3toZJ",
        "outputId": "e0952565-7c96-43cb-b10b-cfefa55e053c"
      },
      "source": [
        "predictions_single = model.predict(img)\r\n",
        "\r\n",
        "print(predictions_single)"
      ],
      "execution_count": 33,
      "outputs": [
        {
          "output_type": "stream",
          "text": [
            "[[8.8031654e-10 7.2239275e-19 3.0251946e-21 4.5172123e-31 1.1761801e-12\n",
            "  2.3355017e-07 1.1872809e-12 4.7057083e-06 9.2249405e-16 9.9999511e-01]]\n"
          ],
          "name": "stdout"
        }
      ]
    },
    {
      "cell_type": "code",
      "metadata": {
        "colab": {
          "base_uri": "https://localhost:8080/",
          "height": 300
        },
        "id": "XyQ099DNtvYR",
        "outputId": "b9963bad-345a-44ab-b5a3-497f1a3bbdc1"
      },
      "source": [
        "plot_value_array(0, predictions_single, test_labels)\r\n",
        "\r\n",
        "_ = plt.xticks(range(10), class_names, rotation=45)"
      ],
      "execution_count": 34,
      "outputs": [
        {
          "output_type": "display_data",
          "data": {
            "image/png": "[encoded data removed]",
            "text/plain": [
              "<Figure size 432x288 with 1 Axes>"
            ]
          },
          "metadata": {
            "tags": [],
            "needs_background": "light"
          }
        }
      ]
    },
    {
      "cell_type": "markdown",
      "metadata": {
        "id": "ZEsfGTYFt4er"
      },
      "source": [
        "`model.predict` retorna a lista de listas — uma lista para cada imagem em um **batch** de dados. Pegue a predição de nossa (única) imagem no batch:"
      ]
    },
    {
      "cell_type": "code",
      "metadata": {
        "colab": {
          "base_uri": "https://localhost:8080/"
        },
        "id": "BL8p3yGyt04Q",
        "outputId": "542ff634-935d-4250-b6fb-1800ea6fe443"
      },
      "source": [
        "np.argmax(predictions_single[0])"
      ],
      "execution_count": 35,
      "outputs": [
        {
          "output_type": "execute_result",
          "data": {
            "text/plain": [
              "9"
            ]
          },
          "metadata": {
            "tags": []
          },
          "execution_count": 35
        }
      ]
    },
    {
      "cell_type": "markdown",
      "metadata": {
        "id": "GgUkTmJKt-xK"
      },
      "source": [
        "**E, como antes, o modelo previu a label como 9**."
      ]
    }
  ]
}